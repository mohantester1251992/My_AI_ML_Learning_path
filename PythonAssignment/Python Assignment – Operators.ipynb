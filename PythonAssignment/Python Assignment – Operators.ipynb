{
 "cells": [
  {
   "cell_type": "markdown",
   "metadata": {},
   "source": [
    "### BASIC PYTHON ASSIGNMENT 1(Operators)"
   ]
  },
  {
   "cell_type": "markdown",
   "metadata": {},
   "source": [
    "1) Import keyword library and print list of keywords along with total number of keywords"
   ]
  },
  {
   "cell_type": "markdown",
   "metadata": {},
   "source": [
    "import keyword\n",
    "#get all keywords\n",
    "keywords = keyword.kwlist\n",
    "#print the keywords\n",
    "for key in keywords:\n",
    "    print(key)"
   ]
  },
  {
   "cell_type": "markdown",
   "metadata": {},
   "source": [
    "2) In Markdown State, Copy Python keywords image from Google\n",
    "Images and Paste it in your notebook"
   ]
  },
  {
   "attachments": {
    "image.png": {
     "image/png": "[encoded data removed]"
    }
   },
   "cell_type": "markdown",
   "metadata": {},
   "source": [
    "![image.png](attachment:image.png)"
   ]
  },
  {
   "cell_type": "markdown",
   "metadata": {},
   "source": [
    "3) Create two strings a and b with any integer values stored in it And perform Addition, Multiplication, Subtraction and a2 +b2"
   ]
  },
  {
   "cell_type": "code",
   "execution_count": 12,
   "metadata": {},
   "outputs": [
    {
     "name": "stdout",
     "output_type": "stream",
     "text": [
      "Addition of a + b = 200\n",
      "Multiplication of a * b =9600\n",
      "Subtraction of a - b =-40\n",
      "a2 + b2 =20800\n"
     ]
    }
   ],
   "source": [
    "a = 80\n",
    "b = 120\n",
    "#Addition\n",
    "c = a+b\n",
    "print(\"Addition of a + b = \"+str(c))\n",
    "#Multiplication\n",
    "D = a*b\n",
    "print(\"Multiplication of a * b =\"+str(D))\n",
    "#Subtraction\n",
    "E = a-b\n",
    "print(\"Subtraction of a - b =\"+str(E))\n",
    "#a2+b2\n",
    "F=a**2+b**2\n",
    "print(\"a2 + b2 =\"+str(F))\n"
   ]
  },
  {
   "cell_type": "markdown",
   "metadata": {},
   "source": [
    "4) Use Boolean operators (==, !=, >, >=, <, <= ) , between a and b\n",
    "and Display output"
   ]
  },
  {
   "cell_type": "code",
   "execution_count": 13,
   "metadata": {},
   "outputs": [
    {
     "name": "stdout",
     "output_type": "stream",
     "text": [
      "a == b is False\n",
      "a != b is True\n",
      "a >= b is False\n",
      "a <= b is True\n",
      "a > b is False\n",
      "a < b is True\n"
     ]
    }
   ],
   "source": [
    "a = 5\n",
    "b = 12\n",
    "\n",
    "# Output: a == b is False\n",
    "print('a == b is',a==b)\n",
    "\n",
    "# Output: a != b is True\n",
    "print('a != b is',a!=b)\n",
    "\n",
    "# Output: a >= b is False\n",
    "print('a >= b is',a>=b)\n",
    "\n",
    "# Output: a <= b is True\n",
    "print('a <= b is',a<=b)\n",
    "\n",
    "# Output: a > b is False\n",
    "print('a > b is',a>b)\n",
    "\n",
    "# Output: a < b is True\n",
    "print('a < b is',a<b)"
   ]
  },
  {
   "cell_type": "markdown",
   "metadata": {},
   "source": [
    "5) Create two strings x and y with any integer values stored in it\n",
    "And perform bitwise operations (&,^, | ,>>,<<)"
   ]
  },
  {
   "cell_type": "code",
   "execution_count": 16,
   "metadata": {},
   "outputs": [
    {
     "name": "stdout",
     "output_type": "stream",
     "text": [
      "x & y = 0\n",
      "x | y = 14\n",
      "x ^ y = 14\n",
      "x >> 1 = 0\n",
      "y >> 1 = -5\n",
      "x << 1 = 30\n",
      "y << 1 = -36\n"
     ]
    }
   ],
   "source": [
    "x = 10\n",
    "y = 4\n",
    "    \n",
    "# Print bitwise AND operation    \n",
    "print(\"x & y =\", x & y)  \n",
    "    \n",
    "# Print bitwise OR operation  \n",
    "print(\"x | y =\", x | y)  \n",
    "        \n",
    "# print bitwise XOR operation   \n",
    "print(\"x ^ y =\", x ^ y)  \n",
    "\n",
    "x = 1\n",
    "y = -10\n",
    "  \n",
    "# print bitwise right shift operator \n",
    "print(\"x >> 1 =\", x >> 1) \n",
    "print(\"y >> 1 =\", y >> 1) \n",
    "  \n",
    "x = 15\n",
    "y = -18\n",
    "  \n",
    "# print bitwise left shift operator \n",
    "print(\"x << 1 =\", x << 1) \n",
    "print(\"y << 1 =\", y << 1) "
   ]
  },
  {
   "cell_type": "code",
   "execution_count": null,
   "metadata": {},
   "outputs": [],
   "source": []
  }
 ],
 "metadata": {
  "kernelspec": {
   "display_name": "Python 3",
   "language": "python",
   "name": "python3"
  },
  "language_info": {
   "codemirror_mode": {
    "name": "ipython",
    "version": 3
   },
   "file_extension": ".py",
   "mimetype": "text/x-python",
   "name": "python",
   "nbconvert_exporter": "python",
   "pygments_lexer": "ipython3",
   "version": "3.8.3"
  }
 },
 "nbformat": 4,
 "nbformat_minor": 4
}
