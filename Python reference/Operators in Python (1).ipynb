{
 "cells": [
  {
   "cell_type": "code",
   "execution_count": 1,
   "metadata": {},
   "outputs": [],
   "source": [
    "#see the value of multiple statements\n",
    "#output for all commands in python jupyter notebook\n",
    "# Specifying which nodes should be run interactively such as 'all','last'..\n",
    "\n",
    "from IPython.core.interactiveshell import InteractiveShell\n",
    "InteractiveShell.ast_node_interactivity = \"all\""
   ]
  },
  {
   "cell_type": "markdown",
   "metadata": {},
   "source": [
    "### This notebook deals with different types of operators in Python\n"
   ]
  },
  {
   "cell_type": "markdown",
   "metadata": {},
   "source": [
    "###### What are operators in python?\n",
    "Operators are special symbols in Python that carry out arithmetic or logical computation. The value that the operator operates on is called the operand.\n",
    "\n"
   ]
  },
  {
   "cell_type": "markdown",
   "metadata": {},
   "source": [
    "For example: 8+3 = 11\n",
    "\n",
    "Here, + is the operator that performs addition. 8 and 3 are the operands and 11 is the output of the operation."
   ]
  },
  {
   "cell_type": "markdown",
   "metadata": {},
   "source": [
    "1. Arithmetic operators\n",
    "    \n",
    "2. Bitwise operators \n",
    "\n",
    "3. Assignment operators\n",
    "\n",
    "4. Comparison (Relational) operators\n",
    "\n",
    "5. Logical (Boolean) operators\n",
    "\n",
    "6. Special operators"
   ]
  },
  {
   "cell_type": "markdown",
   "metadata": {},
   "source": [
    "## Arithmetic operators: \n",
    "    \n",
    "    Arithmetic operators are used to perform mathematical operations like addition, \n",
    "    subtraction, multiplication and division."
   ]
  },
  {
   "cell_type": "markdown",
   "metadata": {},
   "source": [
    "- Addition: adds two operands and the syntax is x + y\n",
    "- Subtraction: subtracts two operands and the syntax is x - y\n",
    "- Multiplication: multiplies two operands and the syntax is x * y\n",
    "- Division (float): divides the first operand by the second and the syntax is x / y\n",
    "- Division (floor): divides the first operand by the second and the syntax x // y\n",
    "- Modulus:Returns the remainder when first operand is divided by the second and the synatx is x % y\n"
   ]
  },
  {
   "cell_type": "code",
   "execution_count": 2,
   "metadata": {},
   "outputs": [
    {
     "name": "stdout",
     "output_type": "stream",
     "text": [
      "6\n",
      "12879\n",
      "4\n",
      "-1\n",
      "48\n",
      "204\n"
     ]
    }
   ],
   "source": [
    "print(2 + 4)\n",
    "print(12878 + 1)\n",
    "print(7 - 3)\n",
    "print(127 - 128)\n",
    "print(8 * 6)\n",
    "print(17 * 12)"
   ]
  },
  {
   "cell_type": "markdown",
   "metadata": {},
   "source": [
    "There are two division operators: / for everyday (float) division and // for truncating (integer) division"
   ]
  },
  {
   "cell_type": "code",
   "execution_count": 4,
   "metadata": {},
   "outputs": [
    {
     "name": "stdout",
     "output_type": "stream",
     "text": [
      "4.25\n",
      "4\n"
     ]
    }
   ],
   "source": [
    "print(17 / 4)\n",
    "print(17 // 4)"
   ]
  },
  {
   "cell_type": "markdown",
   "metadata": {},
   "source": [
    "The modulo operator % and the exponentiation operator ** are also available."
   ]
  },
  {
   "cell_type": "code",
   "execution_count": 5,
   "metadata": {},
   "outputs": [
    {
     "name": "stdout",
     "output_type": "stream",
     "text": [
      "0\n",
      "2\n"
     ]
    }
   ],
   "source": [
    "print(18 % 3)\n",
    "print(72 % 5)"
   ]
  },
  {
   "cell_type": "markdown",
   "metadata": {},
   "source": [
    "The usual operator precedence rules and use of parentheses to override that are available"
   ]
  },
  {
   "cell_type": "code",
   "execution_count": 6,
   "metadata": {},
   "outputs": [
    {
     "name": "stdout",
     "output_type": "stream",
     "text": [
      "697\n",
      "99999999999997\n",
      "100000000000\n"
     ]
    }
   ],
   "source": [
    "print(10 ** 2 * 7 - 3)\n",
    "print(10 ** (2 * 7) - 3)\n",
    "print(10 ** (2 * 7 - 3))"
   ]
  },
  {
   "cell_type": "code",
   "execution_count": 3,
   "metadata": {},
   "outputs": [
    {
     "name": "stdout",
     "output_type": "stream",
     "text": [
      "95895286347222034791086605662811969785387106853901346544483953642680116799305429392916328044803964544906412568173586838975389693889466931724787382602209026851413718672992500945459050967973754074446682840115185173491232894943036718270805266686475439556591818306146142541531042457606878440869168972012200929781450791973866289435058898863980805449821148199924662026572772426330363272818353600292677639914650163602402387046082945396504228157351617787966026866638977428336270761039733807499229574152744708406709999198108421875593674670017724918532931998179661679487371607921869488779614480174654183050554148246295513430972687654798140382162446340357982348270186444388129720941541158390538541492685710752623852622720768334430468852097226917149171660953626254466986940765253382358001339174903296347169720023617297994349779160697050425373047121064748421434125128308764115407012030949147264066116731171517339637266846118243586757670417982965125332116703787163047835949441767799201\n"
     ]
    }
   ],
   "source": [
    "a = 123456789 \n",
    "b = a ** 2\n",
    "c = b ** 3\n",
    "d = c ** 4\n",
    "e = d ** 5\n",
    "print(e)"
   ]
  },
  {
   "cell_type": "code",
   "execution_count": null,
   "metadata": {},
   "outputs": [],
   "source": [
    "##### Assignment operators\n",
    "The standard assignment operators are available. That is,  $\\alpha$  $\\odot=\\beta$ is a shorthand for $\\alpha = \\alpha \\odot \\beta$\n",
    "where $\\odot$ is any binary arithmetic operator we saw above"
   ]
  },
  {
   "cell_type": "code",
   "execution_count": 10,
   "metadata": {},
   "outputs": [
    {
     "name": "stdout",
     "output_type": "stream",
     "text": [
      "17 5\n",
      "12 5\n",
      "60 5\n",
      "777600000 5\n"
     ]
    }
   ],
   "source": [
    "a = 12\n",
    "b = 5\n",
    "a += b\n",
    "print(a, b)\n",
    "a -= b\n",
    "print(a, b)\n",
    "a *= b\n",
    "print(a, b)\n",
    "a **=b\n",
    "print(a,b)"
   ]
  },
  {
   "cell_type": "markdown",
   "metadata": {},
   "source": [
    "#### Boolean\n",
    "The two constants True and False are defined.\n",
    "\n",
    "The usual boolean operators are also available: ==, !=, >, >=, <, <= "
   ]
  },
  {
   "cell_type": "code",
   "execution_count": 12,
   "metadata": {},
   "outputs": [
    {
     "name": "stdout",
     "output_type": "stream",
     "text": [
      "True False True True False\n"
     ]
    }
   ],
   "source": [
    "a = 12\n",
    "b = 13\n",
    "print(a == b - 1,a == b, a != b, a < b, a >= b)"
   ]
  },
  {
   "cell_type": "markdown",
   "metadata": {},
   "source": [
    "#### Float\n",
    "Python has a float datatype (and it is the same as C's double!) and the above operations are available"
   ]
  },
  {
   "cell_type": "code",
   "execution_count": 13,
   "metadata": {},
   "outputs": [
    {
     "name": "stdout",
     "output_type": "stream",
     "text": [
      "12.9\n",
      "3.6\n",
      "16.5\n",
      "9.3\n",
      "46.440000000000005\n",
      "3.5833333333333335\n",
      "12.9 3.6 16.5 9.3 46.440000000000005 3.5833333333333335\n"
     ]
    }
   ],
   "source": [
    "a = 12.9\n",
    "b = 3.6\n",
    "c = a + b\n",
    "d = a - b\n",
    "e = a * b #Watch out for the round off error!\n",
    "f = a / b\n",
    "print(a, b, c, d, e, f, sep=\"\\n\")\n",
    "print(a, b, c, d, e, f)"
   ]
  },
  {
   "cell_type": "code",
   "execution_count": null,
   "metadata": {},
   "outputs": [],
   "source": [
    "## Bitwise operators: \n",
    "    Bitwise operators acts on bits and performs bit by bit operation."
   ]
  },
  {
   "cell_type": "markdown",
   "metadata": {},
   "source": [
    "- Bitwise AND---- x & y\n",
    "- Bitwise OR----  x | y\n",
    "- Bitwise NOT----  ~x\n",
    "- Bitwise XOR----  x ^ y\n",
    "- Bitwise right shift----  x>>\n",
    "- Bitwise left shift----  x<<"
   ]
  },
  {
   "cell_type": "code",
   "execution_count": 21,
   "metadata": {},
   "outputs": [
    {
     "name": "stdout",
     "output_type": "stream",
     "text": [
      "Value of c is  12\n",
      "Value of c is  61\n",
      "Value of c is  49\n",
      "Value of c is  -61\n",
      "Value of c is  240\n",
      "Value of c is  15\n"
     ]
    }
   ],
   "source": [
    "a = 60            # 60 = 0011 1100 \n",
    "b = 13            # 13 = 0000 1101 \n",
    "c = 0\n",
    "\n",
    "c = a & b;        # 12 = 0000 1100\n",
    "print (\"Value of c is \",c)\n",
    "\n",
    "c = a | b;        # 61 = 0011 1101 \n",
    "print (\"Value of c is \",c)\n",
    "\n",
    "c = a ^ b;        # 49 = 0011 0001\n",
    "print (\"Value of c is \",c)\n",
    "\n",
    "\n",
    "c = ~a;           # -61 = 1100 0011\n",
    "print (\"Value of c is \",c)\n",
    "\n",
    "#The left operands value is moved left by the number of bits specified by the right operand.\n",
    "c = a << 2;       # 240 = 1111 0000\n",
    "print (\"Value of c is \",c) \n",
    "\n",
    "#The left operands value is moved right by the number of bits specified by the right operand.\n",
    "c = a >> 2;       # 15 = 0000 1111\n",
    "print (\"Value of c is \",c)"
   ]
  },
  {
   "cell_type": "markdown",
   "metadata": {},
   "source": [
    "###  Relational Operators: \n",
    "    Relational operators compares the values. It either returns True or False according to the condition.\n",
    "\n",
    "- Greater than: True if left operand is greater than the right---- x > y\n",
    "- Less than: True if left operand is less than the right---- x < y\n",
    "- Equal to: True if both operands are equal---- x == y\n",
    "- Not equal to - True if operands are not equal---- x != y\n",
    "- Greater than or equal to: True if left operand is greater than or equal to the right---- x >= y\n",
    "- Less than or equal to: True if left operand is less than or equal to the right---- x <= y"
   ]
  },
  {
   "cell_type": "code",
   "execution_count": 22,
   "metadata": {},
   "outputs": [
    {
     "name": "stdout",
     "output_type": "stream",
     "text": [
      "False\n",
      "True\n",
      "False\n",
      "True\n",
      "False\n",
      "True\n"
     ]
    }
   ],
   "source": [
    "# Examples of Relational Operators \n",
    "a = 25\n",
    "b = 47\n",
    "  \n",
    "# a > b is False \n",
    "print(a > b) \n",
    "  \n",
    "# a < b is True \n",
    "print(a < b) \n",
    "  \n",
    "# a == b is False \n",
    "print(a == b) \n",
    "  \n",
    "# a != b is True \n",
    "print(a != b) \n",
    "  \n",
    "# a >= b is False \n",
    "print(a >= b) \n",
    "  \n",
    "# a <= b is True \n",
    "print(a <= b) "
   ]
  },
  {
   "cell_type": "markdown",
   "metadata": {},
   "source": [
    "### Logical operators: \n",
    "    Logical operators perform Logical AND, Logical OR and Logical NOT operations.\n",
    "\n",
    "\n",
    "- Logical AND: True if both the operands are true----  x and y\n",
    "- Logical OR: True if either of the operands is true---  x or y\n",
    "- Logical NOT: True if operand is false--- not x\n"
   ]
  },
  {
   "cell_type": "code",
   "execution_count": 24,
   "metadata": {},
   "outputs": [
    {
     "name": "stdout",
     "output_type": "stream",
     "text": [
      "False\n",
      "True\n",
      "False\n"
     ]
    }
   ],
   "source": [
    "# Examples of Logical Operator \n",
    "a = True\n",
    "b = False\n",
    "  \n",
    "# Print a and b is False \n",
    "print(a and b) \n",
    "  \n",
    "# Print a or b is True \n",
    "print(a or b) \n",
    "  \n",
    "# Print not a is False \n",
    "print(not a) "
   ]
  },
  {
   "cell_type": "markdown",
   "metadata": {},
   "source": [
    "### Special operators:\n",
    "    There are some special type of operators like-\n",
    "###### Identity operators-\n",
    "is and is not are the identity operators both are used to check if two values are located on the same part of the memory. Two variables that are equal does not imply that they are identical.\n",
    "- is          True if the operands are identical \n",
    "- is not      True if the operands are not identical"
   ]
  },
  {
   "cell_type": "code",
   "execution_count": 26,
   "metadata": {},
   "outputs": [
    {
     "name": "stdout",
     "output_type": "stream",
     "text": [
      "False\n",
      "True\n",
      "False\n"
     ]
    }
   ],
   "source": [
    "# Examples of Identity operators \n",
    "a1 = 3\n",
    "b1 = 3\n",
    "a2 = 'Datafolkz'\n",
    "b2 = 'Datafolkz'\n",
    "a3 = [1,2,3] \n",
    "b3 = [1,2,3] \n",
    "  \n",
    "print(a1 is not b1) \n",
    "  \n",
    "print(a2 is b2) \n",
    "  \n",
    "# Output is False, since lists are mutable. \n",
    "print(a3 is b3) "
   ]
  }
 ],
 "metadata": {
  "kernelspec": {
   "display_name": "Python 3",
   "language": "python",
   "name": "python3"
  },
  "language_info": {
   "codemirror_mode": {
    "name": "ipython",
    "version": 3
   },
   "file_extension": ".py",
   "mimetype": "text/x-python",
   "name": "python",
   "nbconvert_exporter": "python",
   "pygments_lexer": "ipython3",
   "version": "3.7.1"
  }
 },
 "nbformat": 4,
 "nbformat_minor": 4
}
